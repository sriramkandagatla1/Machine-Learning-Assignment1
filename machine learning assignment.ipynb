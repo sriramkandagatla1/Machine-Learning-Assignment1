{
 "cells": [
  {
   "cell_type": "code",
   "execution_count": 63,
   "id": "9356fcf0",
   "metadata": {},
   "outputs": [
    {
     "name": "stdout",
     "output_type": "stream",
     "text": [
      "sorted ages: [19, 19, 20, 22, 24, 24, 24, 25, 25, 26]\n",
      "min: 19\n",
      "max: 26\n",
      "modified ages: [19, 19, 20, 22, 24, 24, 24, 25, 25, 26, 19, 26]\n",
      "median: 24.0\n",
      "average: 22.75\n",
      "range: 7\n"
     ]
    }
   ],
   "source": [
    "\n",
    "ages=[19,22,19,24,20,25,26,24,25,24]\n",
    "\n",
    "ages.sort()\n",
    "minimum_age=ages[0]#finding minimum age\n",
    "maximum_age=ages[len(ages)-1]#finding maximum age\n",
    "print(\"sorted ages:\",ages)\n",
    "print(\"min:\",minimum_age)\n",
    "print(\"max:\",maximum_age)\n",
    "ages.append(minimum_age)#adding minimum age to ages\n",
    "ages.append(maximum_age)#adding maximum age to ages\n",
    "print(\"modified ages:\",ages)\n",
    "leng=len(ages)\n",
    "if(leng%2==0):\n",
    "    median=(ages[(int)(leng/2)]+ages[(int)((leng/2)-1)])/2# finding median of ages\n",
    "else:\n",
    "    median=ages[(int)((leng-1)/2)]\n",
    "print(\"median:\",median)\n",
    "average=sum(ages)/leng#finding average of ages\n",
    "print(\"average:\",average)\n",
    "ages.sort()\n",
    "range=ages[len(ages)-1]-ages[0]#finding range of ages\n",
    "print(\"range:\",range)"
   ]
  },
  {
   "cell_type": "code",
   "execution_count": 65,
   "id": "9978dfa3",
   "metadata": {},
   "outputs": [
    {
     "name": "stdout",
     "output_type": "stream",
     "text": [
      "dog dictionary: {'name': 'tommy', 'color': 'white', 'legs': 4, 'age': 5}\n",
      "{'first_name': 'Ram charan', 'last_name': 'Konidela', 'gender': 'Male', 'age': 30, 'marital status': 'Married', 'skills': ['Actor', 'Dancer'], 'country': 'India', 'city': 'hyderabad', 'address': 'Apt 12444'}\n",
      "\n",
      "\n",
      " length of the student dictionary: 9\n",
      "student skills: ['Actor', 'Dancer']\n",
      "type: <class 'list'>\n",
      "modified skills: {'first_name': 'Ram charan', 'last_name': 'Konidela', 'gender': 'Male', 'age': 30, 'marital status': 'Married', 'skills': ['Actor', 'Dancer', 'Singer'], 'country': 'India', 'city': 'hyderabad', 'address': 'Apt 12444'}\n",
      "dict_keys(['first_name', 'last_name', 'gender', 'age', 'marital status', 'skills', 'country', 'city', 'address'])\n",
      "dict_values(['Ram charan', 'Konidela', 'Male', 30, 'Married', ['Actor', 'Dancer', 'Singer'], 'India', 'hyderabad', 'Apt 12444'])\n"
     ]
    }
   ],
   "source": [
    "#Create empty dictionary dog\n",
    "#Add name,color,breed,legs,age to the dog dictionary\n",
    "dog={\n",
    "    'name':'tommy',\n",
    "    'color':'white',\n",
    "    'legs':4,\n",
    "    'age':5,\n",
    "}\n",
    "print(\"dog dictionary:\",dog)\n",
    "#Create a student dictionary and add first_name,last_name,gender,age,matial status\n",
    "#skills,country,city and address as keys for the dictionary\n",
    "student={}\n",
    "student['first_name']='Ram charan'\n",
    "student['last_name']='Konidela'\n",
    "student['gender']='Male'\n",
    "student['age']=30\n",
    "student['marital status']='Married'\n",
    "student['skills']=['Actor','Dancer']\n",
    "student['country']='India'\n",
    "student['city']='hyderabad'\n",
    "student['address']='Apt 12444'\n",
    "print(student)\n",
    "print(\"\\n\")\n",
    "\n",
    "print(\" length of the student dictionary:\",len(student))#Get the length of the student dictionary\n",
    "s=student[\"skills\"]\n",
    "print(\"student skills:\",s)\n",
    "print(\"type:\",type(student['skills']))\n",
    "\n",
    "student.update({'skills':['Actor','Dancer','Singer']})#Get the bvalue of skills and check the data type,it should be a lsi\n",
    "print(\"modified skills:\",student)\n",
    "\n",
    "print(student.keys())\n",
    "\n",
    "print(student.values())"
   ]
  },
  {
   "cell_type": "code",
   "execution_count": 47,
   "id": "ac1d2d96",
   "metadata": {},
   "outputs": [
    {
     "name": "stdout",
     "output_type": "stream",
     "text": [
      "sisters tuple is: ('Devika', 'jyothi', 'dharani')\n",
      "brothers tuple is: ('karthik', 'jayanth', 'arun')\n",
      "siblings tuple is: ('Devika', 'jyothi', 'dharani', 'karthik', 'jayanth', 'arun')\n",
      "How many siblings do you have?: 6\n",
      "family_members tuple: ('Devika', 'jyothi', 'dharani', 'karthik', 'jayanth', 'arun', 'santhu', 'sony')\n"
     ]
    }
   ],
   "source": [
    "#Create a tuple containing names of your sisters and your brothers\n",
    "sisters=(\"Devika\",\"jyothi\",\"dharani\")\n",
    "Brothers=(\"karthik\",\"jayanth\",\"arun\",)\n",
    "print(\"sisters tuple is:\",sisters)\n",
    "print(\"brothers tuple is:\",Brothers)\n",
    "#join brothers and sisters tuples and assign it to siblings\n",
    "siblings=sisters+Brothers\n",
    "print(\"siblings tuple is:\",siblings)\n",
    "#how many siblings do u have?\n",
    "print(\"How many siblings do you have?:\",len(siblings))\n",
    "\n",
    "family_members=siblings+(\"santhu\",\"sony\")\n",
    "print(\"family_members tuple:\",family_members)"
   ]
  },
  {
   "cell_type": "code",
   "execution_count": 66,
   "id": "21146fc8",
   "metadata": {},
   "outputs": [
    {
     "name": "stdout",
     "output_type": "stream",
     "text": [
      " length of the set it_companies: 7\n",
      "{'Twitter', 'Facebook', 'Google', 'Amazon', 'IBM', 'Microsoft', 'Oracle', 'Apple'}\n",
      "{'TCS', 'Cognizant', 'Google', 'Twitter', 'Facebook', 'Oracle', 'Apple', 'Amazon', 'Microsoft', 'Capgemini', 'IBM'}\n",
      "{'TCS', 'Google', 'Twitter', 'Facebook', 'Oracle', 'Apple', 'Amazon', 'Microsoft', 'Capgemini', 'IBM'}\n",
      "if the item to remove does not exist in the given set, remove will raise an error where as discard will not raise an error\n",
      "A union B is: {19, 20, 22, 24, 25, 26, 27, 28}\n",
      "A intersection B is: {19, 20, 22, 24, 25, 26}\n",
      "Is A subset of B: True\n",
      "Are A and B disjoint sets: False\n",
      "join A with B: {19, 20, 22, 24, 25, 26, 27, 28}\n",
      "join B with A: {19, 20, 22, 24, 25, 26, 27, 28}\n",
      "symmetric difference: {27, 28}\n",
      "set()\n",
      "set()\n",
      "set()\n",
      "length of ages list: 8\n",
      "length of ages set: 5\n"
     ]
    }
   ],
   "source": [
    "it_companies={'Facebook','Google','Microsoft','Apple','IBM','Oracle','Amazon'}\n",
    "A={19,22,24,20,25,26}\n",
    "B={19,22,20,25,26,24,28,27}\n",
    "age=[22,19,24,25,26,24,25,24]\n",
    "print(\" length of the set it_companies:\",len(it_companies))# find the length of the set of it_comapnies\n",
    "#add twitter to it_companies\n",
    "it_companies.add('Twitter')\n",
    "print(it_companies)\n",
    "\n",
    "it_companies.update(['TCS','Cognizant','Capgemini'])# insert multiple it companies \n",
    "print(it_companies)\n",
    "#Insert muiltiple IT companies at once to the set of it_companies\n",
    "it_companies.remove('Cognizant')\n",
    "print(it_companies)\n",
    "\n",
    "#what is the difference between remove and discard\n",
    "print(\"if the item to remove does not exist in the given set, remove will raise an error where as discard will not raise an error\")\n",
    "\n",
    "print(\"A union B is:\",A.union(B))#join A and B\n",
    "\n",
    "print(\"A intersection B is:\",A.intersection(B))\n",
    "\n",
    "print(\"Is A subset of B:\",A.issubset(B))\n",
    "\n",
    "print(\"Are A and B disjoint sets:\",A.isdisjoint(B))#Are A and B disjoint sets\n",
    "\n",
    "print(\"join A with B:\",A.union(B))\n",
    "print(\"join B with A:\",B.union(A))\n",
    "\n",
    "print(\"symmetric difference:\",A.symmetric_difference(B))\n",
    "\n",
    "it_companies.clear()\n",
    "A.clear()\n",
    "B.clear()\n",
    "print(it_companies)\n",
    "print(A)\n",
    "print(B)\n",
    "\n",
    "Ages=set(age)#convert the ages to a set and compare the length of the list and the set\n",
    "print(\"length of ages list:\",len(age))\n",
    "print(\"length of ages set:\",len(Ages))"
   ]
  },
  {
   "cell_type": "code",
   "execution_count": 55,
   "id": "ac973678",
   "metadata": {},
   "outputs": [
    {
     "name": "stdout",
     "output_type": "stream",
     "text": [
      "area of circle: 2826.0\n",
      "circum of circle: 188.4\n",
      "enter the radius:5\n",
      "area of circle from user input: 78.5\n"
     ]
    }
   ],
   "source": [
    "#Calculate the area of a cicrcle and assign the value to a variable name of area_of_circle\n",
    "rad=30\n",
    "pi=3.14\n",
    "area_of_circle=pi*rad*rad\n",
    "print(\"area of circle:\",area_of_circle)\n",
    "#Calculate the circumfrence of a  cicrcle and assign the value to a variable name of circle\n",
    "circum_of_circle=2*pi*rad\n",
    "print(\"circum of circle:\",circum_of_circle)\n",
    "\n",
    "radius2=(float)(input(\"enter the radius:\"))\n",
    "area=pi*radius2*radius2\n",
    "print(\"area of circle from user input:\",area)"
   ]
  },
  {
   "cell_type": "code",
   "execution_count": 56,
   "id": "c847a7c0",
   "metadata": {},
   "outputs": [
    {
     "name": "stdout",
     "output_type": "stream",
     "text": [
      "{'inspire', 'teach', 'to', 'people', 'teacher', 'am', 'a', 'love', 'I', 'and'}\n",
      "no of unique words in the given sentence: 10\n"
     ]
    }
   ],
   "source": [
    "str=\"I am a teacher and I love to inspire and teach people\"\n",
    "Str1=(set)(str.split())\n",
    "print(Str1)\n",
    "print(\"no of unique words in the given sentence:\",len(Str1))\n"
   ]
  },
  {
   "cell_type": "code",
   "execution_count": 22,
   "id": "757ca393",
   "metadata": {},
   "outputs": [
    {
     "name": "stdout",
     "output_type": "stream",
     "text": [
      "Name\tAge\tCountry\tCity\n",
      "Asabeneh\t250\tFinland\tHelsinki\n"
     ]
    }
   ],
   "source": [
    "print(\"Name\\tAge\\tCountry\\tCity\\nAsabeneh\\t250\\tFinland\\tHelsinki\")\n",
    "\n"
   ]
  },
  {
   "cell_type": "code",
   "execution_count": 23,
   "id": "c1ee6459",
   "metadata": {},
   "outputs": [
    {
     "name": "stdout",
     "output_type": "stream",
     "text": [
      "The area of circle with radius 10 is 314 meter square.\n"
     ]
    }
   ],
   "source": [
    "#The string formatting method to display the following\n",
    "radius=10\n",
    "area=3.14*radius**2\n",
    "print(\"The area of circle with radius %d is %d meter square.\"%(radius,area))"
   ]
  },
  {
   "cell_type": "code",
   "execution_count": 61,
   "id": "2b5b51d2",
   "metadata": {},
   "outputs": [
    {
     "name": "stdout",
     "output_type": "stream",
     "text": [
      "Enter no of students:4\n",
      "Enter weightsin lbs\n",
      "150 155 145 148\n",
      "Weights in kgs: [67.5, 69.75, 65.25, 66.60000000000001]\n"
     ]
    }
   ],
   "source": [
    "N=int(input(\"Enter no of students:\"))#taking input from user\n",
    "print(\"Enter weightsin lbs\")\n",
    "weights=list(map(int,input().split()))\n",
    "nweights=[]\n",
    "for i in weights:\n",
    "    nweights.append(i*0.45)#converting into kgs\n",
    "print(\"Weights in kgs:\",nweights)"
   ]
  },
  {
   "cell_type": "code",
   "execution_count": null,
   "id": "3777236c",
   "metadata": {},
   "outputs": [],
   "source": []
  },
  {
   "cell_type": "code",
   "execution_count": null,
   "id": "aabba79b",
   "metadata": {},
   "outputs": [],
   "source": []
  }
 ],
 "metadata": {
  "kernelspec": {
   "display_name": "Python 3 (ipykernel)",
   "language": "python",
   "name": "python3"
  },
  "language_info": {
   "codemirror_mode": {
    "name": "ipython",
    "version": 3
   },
   "file_extension": ".py",
   "mimetype": "text/x-python",
   "name": "python",
   "nbconvert_exporter": "python",
   "pygments_lexer": "ipython3",
   "version": "3.11.1"
  }
 },
 "nbformat": 4,
 "nbformat_minor": 5
}
